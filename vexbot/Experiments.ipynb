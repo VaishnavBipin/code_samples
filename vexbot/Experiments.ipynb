{
 "cells": [
  {
   "cell_type": "code",
   "execution_count": 1,
   "id": "f574dff3-250d-4d67-afba-083f71c8ed43",
   "metadata": {
    "tags": []
   },
   "outputs": [],
   "source": [
    "import numpy as np\n",
    "from card import Suit, Card, Deck, Hand, handtype_to_str\n",
    "import random\n",
    "from copy import deepcopy\n",
    "from player import Player, RandomPlayer, RaisePlayer, VexBot,CallPlayer\n",
    "from game import MatchSimulator\n"
   ]
  },
  {
   "cell_type": "markdown",
   "id": "530c0c6e-7bd8-4464-9676-3767dff0d530",
   "metadata": {
    "tags": []
   },
   "source": [
    "## Experiment 1: 25 trial (10,000 chips ea)"
   ]
  },
  {
   "cell_type": "code",
   "execution_count": 2,
   "id": "43cc2f83-9340-40d3-90ec-b889f17acd94",
   "metadata": {
    "tags": []
   },
   "outputs": [],
   "source": [
    "trials = 25\n",
    "chips = 100000\n",
    "max_games = 100"
   ]
  },
  {
   "cell_type": "markdown",
   "id": "991f40f0-c8c8-4dc4-bc6a-53de6aec45d9",
   "metadata": {},
   "source": [
    "### Random V Raise"
   ]
  },
  {
   "cell_type": "code",
   "execution_count": 3,
   "id": "797febe5-94f3-4622-8990-80d08d028a76",
   "metadata": {},
   "outputs": [
    {
     "name": "stdout",
     "output_type": "stream",
     "text": [
      "15.72\n"
     ]
    }
   ],
   "source": [
    "games = 0\n",
    "RandomVRaise= list()\n",
    "for i in range(trials):\n",
    "    players = [RandomPlayer(0), RaisePlayer(1)]\n",
    "    sim = MatchSimulator(players, n_games=100,initial_players_chips=[2000, 2000])\n",
    "    winner,game, chips = sim.run()\n",
    "    RandomVRaise.append(winner)\n",
    "    games += game\n",
    "print(games/trials)"
   ]
  },
  {
   "cell_type": "markdown",
   "id": "43d12fce-4c8b-4745-b918-9d3cdc4d98ad",
   "metadata": {},
   "source": [
    "### Random V Call"
   ]
  },
  {
   "cell_type": "code",
   "execution_count": 4,
   "id": "8ebfa804-993a-498a-9e23-faa905304b1b",
   "metadata": {},
   "outputs": [
    {
     "name": "stdout",
     "output_type": "stream",
     "text": [
      "48.32\n"
     ]
    }
   ],
   "source": [
    "games = 0\n",
    "RandomVCall= list()\n",
    "for i in range(trials):\n",
    "    players = [RandomPlayer(0),CallPlayer(1)]\n",
    "    sim = MatchSimulator(players, n_games=100,initial_players_chips=[2000, 2000])\n",
    "    winner,game, chips = sim.run()\n",
    "    RandomVCall.append(winner)\n",
    "    games += game\n",
    "print(games/trials)"
   ]
  },
  {
   "cell_type": "markdown",
   "id": "bfb2cf91-dc32-461e-98ba-59eaac64498f",
   "metadata": {},
   "source": [
    "### Random V Vexbot"
   ]
  },
  {
   "cell_type": "code",
   "execution_count": 5,
   "id": "3ffdebf8-ccb5-40e5-8719-2344949c271b",
   "metadata": {},
   "outputs": [
    {
     "name": "stderr",
     "output_type": "stream",
     "text": [
      "C:\\Users\\guanl\\Desktop\\Gitlab\\cs395t-planning-search\\vexbot\\player.py:371: RuntimeWarning: invalid value encountered in scalar divide\n",
      "  return np.dot(child_evs, curr_node.act_freqs)/sum(curr_node.act_freqs)\n"
     ]
    },
    {
     "name": "stdout",
     "output_type": "stream",
     "text": [
      "15.6\n"
     ]
    }
   ],
   "source": [
    "games = 0\n",
    "RandomVVex= list()\n",
    "for i in range(trials):\n",
    "    players = [RandomPlayer(0),VexBot(1)]\n",
    "    sim = MatchSimulator(players, n_games=100,initial_players_chips=[2000, 2000])\n",
    "    winner,game, chips = sim.run()\n",
    "    RandomVVex.append(winner)\n",
    "    games += game\n",
    "print(games/trials)"
   ]
  },
  {
   "cell_type": "markdown",
   "id": "2bf5fdec-a678-4b53-b501-1fa82ac521b5",
   "metadata": {},
   "source": [
    "### Raise V Call"
   ]
  },
  {
   "cell_type": "code",
   "execution_count": 6,
   "id": "bec9961e-182f-423a-b32d-f628992f79e4",
   "metadata": {},
   "outputs": [
    {
     "name": "stdout",
     "output_type": "stream",
     "text": [
      "50.72\n"
     ]
    }
   ],
   "source": [
    "games = 0\n",
    "RaiseVCall= list()\n",
    "for i in range(trials):\n",
    "    players = [RaisePlayer(0),CallPlayer(1)]\n",
    "    sim = MatchSimulator(players, n_games=100,initial_players_chips=[2000, 2000])\n",
    "    winner,game, chips = sim.run()\n",
    "    RaiseVCall.append(winner)\n",
    "    games += game\n",
    "print(games/trials)"
   ]
  },
  {
   "cell_type": "markdown",
   "id": "f394a139-0de7-4631-ad1b-fd1b29a20c3d",
   "metadata": {},
   "source": [
    "### Raise V Vexbot"
   ]
  },
  {
   "cell_type": "code",
   "execution_count": 11,
   "id": "63d552c2-178e-4bfd-a2a4-c8e99599bf36",
   "metadata": {},
   "outputs": [
    {
     "name": "stdout",
     "output_type": "stream",
     "text": [
      "3.84\n"
     ]
    }
   ],
   "source": [
    "games = 0\n",
    "RaiseVVex= list()\n",
    "for i in range(trials):\n",
    "    players = [RaisePlayer(0),VexBot(1)]\n",
    "    sim = MatchSimulator(players, n_games=100,initial_players_chips=[2000, 2000])\n",
    "    winner,game, chips = sim.run()\n",
    "    RaiseVVex.append(winner)\n",
    "    games += game\n",
    "print(games/trials)"
   ]
  },
  {
   "cell_type": "markdown",
   "id": "dc530892-c7d5-4a20-ad7b-34b89ba2102c",
   "metadata": {},
   "source": [
    "### Call V Vexbot"
   ]
  },
  {
   "cell_type": "code",
   "execution_count": 8,
   "id": "d0d84bbf-44ac-4359-9ae8-62523b54ca37",
   "metadata": {
    "tags": []
   },
   "outputs": [
    {
     "name": "stdout",
     "output_type": "stream",
     "text": [
      "46.92\n"
     ]
    }
   ],
   "source": [
    "games = 0\n",
    "CallVVex= list()\n",
    "for i in range(trials):\n",
    "    players = [CallPlayer(0),VexBot(1)]\n",
    "    sim = MatchSimulator(players, n_games=100,initial_players_chips=[2000, 2000])\n",
    "    winner,game, chips = sim.run()\n",
    "    CallVVex.append(winner)\n",
    "    games += game\n",
    "print(games/trials)"
   ]
  },
  {
   "cell_type": "code",
   "execution_count": 9,
   "id": "8b22cc55-ab97-4110-86bc-9fb1609831aa",
   "metadata": {
    "tags": []
   },
   "outputs": [
    {
     "name": "stdout",
     "output_type": "stream",
     "text": [
      "19\n",
      "6\n"
     ]
    }
   ],
   "source": []
  },
  {
   "cell_type": "code",
   "execution_count": 2,
   "id": "b3d565ce-6f0a-4476-999a-46ba36ffb841",
   "metadata": {
    "tags": []
   },
   "outputs": [],
   "source": [
    "trials = 10\n"
   ]
  },
  {
   "cell_type": "code",
   "execution_count": 4,
   "id": "4a861a62-37fe-4a02-b399-4570a25cadcb",
   "metadata": {
    "tags": []
   },
   "outputs": [
    {
     "name": "stdout",
     "output_type": "stream",
     "text": [
      "0\n",
      "1\n",
      "2\n",
      "3\n",
      "4\n",
      "5\n",
      "6\n",
      "7\n",
      "8\n",
      "9\n",
      "70.2\n"
     ]
    }
   ],
   "source": [
    "games = 0\n",
    "Random_V= list()\n",
    "for i in range(trials):\n",
    "    players = [RandomPlayer(0),VexBot(1)]\n",
    "    sim = MatchSimulator(players, n_games=10000,initial_players_chips=[10000, 10000])\n",
    "    winner,game, chips = sim.run()\n",
    "    Random_V.append(winner)\n",
    "    print(i)\n",
    "    games += game\n",
    "print(games/trials)"
   ]
  },
  {
   "cell_type": "code",
   "execution_count": null,
   "id": "ad1aabba-431c-4651-a3b5-c05ffee5aa71",
   "metadata": {
    "tags": []
   },
   "outputs": [],
   "source": [
    "games = 0\n",
    "Call_V= list()\n",
    "for i in range(trials):\n",
    "    players = [CallPlayer(0),VexBot(1)]\n",
    "    sim = MatchSimulator(players, n_games=10000,initial_players_chips=[10000, 10000])\n",
    "    winner,game, chips = sim.run()\n",
    "    Call_V.append(winner)\n",
    "    print(i)\n",
    "    games += game\n",
    "print(games/trials)\n"
   ]
  },
  {
   "cell_type": "code",
   "execution_count": 3,
   "id": "3df3329c-eb0d-462e-8263-c4fcb6d40185",
   "metadata": {
    "tags": []
   },
   "outputs": [
    {
     "name": "stderr",
     "output_type": "stream",
     "text": [
      "C:\\Users\\guanl\\Desktop\\Gitlab\\cs395t-planning-search\\vexbot\\player.py:371: RuntimeWarning: invalid value encountered in scalar divide\n",
      "  return np.dot(child_evs, curr_node.act_freqs)/sum(curr_node.act_freqs)\n"
     ]
    },
    {
     "name": "stdout",
     "output_type": "stream",
     "text": [
      "0\n",
      "1\n",
      "2\n",
      "3\n",
      "4\n",
      "5\n",
      "6\n",
      "7\n",
      "8\n",
      "9\n",
      "57.6\n"
     ]
    }
   ],
   "source": [
    "games = 0\n",
    "Raise_V= list()\n",
    "for i in range(trials):\n",
    "    players = [RaisePlayer(0),VexBot(1)]\n",
    "    sim = MatchSimulator(players, n_games=10000,initial_players_chips=[10000, 10000])\n",
    "    winner,game, chips = sim.run()\n",
    "    Raise_V.append(winner)\n",
    "    print(i)\n",
    "    games += game\n",
    "print(games/trials)"
   ]
  },
  {
   "cell_type": "code",
   "execution_count": 6,
   "id": "e416e6eb-357d-48f7-b309-dba2cc8e6cee",
   "metadata": {
    "tags": []
   },
   "outputs": [
    {
     "name": "stdout",
     "output_type": "stream",
     "text": [
      "0\n",
      "10\n"
     ]
    }
   ],
   "source": [
    "i = 0\n",
    "j =0\n",
    "for a in Random_V:\n",
    "    if a == 0:\n",
    "        i += 1\n",
    "    else:\n",
    "        j+= 1\n",
    "print(i)\n",
    "print(j)"
   ]
  },
  {
   "cell_type": "code",
   "execution_count": null,
   "id": "ab42336a-9a8e-4ff5-9f80-ffde13914dd8",
   "metadata": {},
   "outputs": [],
   "source": []
  }
 ],
 "metadata": {
  "kernelspec": {
   "display_name": "Python 3 (ipykernel)",
   "language": "python",
   "name": "python3"
  },
  "language_info": {
   "codemirror_mode": {
    "name": "ipython",
    "version": 3
   },
   "file_extension": ".py",
   "mimetype": "text/x-python",
   "name": "python",
   "nbconvert_exporter": "python",
   "pygments_lexer": "ipython3",
   "version": "3.8.16"
  }
 },
 "nbformat": 4,
 "nbformat_minor": 5
}
