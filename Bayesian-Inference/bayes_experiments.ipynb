{
 "cells": [
  {
   "cell_type": "code",
   "execution_count": 1,
   "metadata": {},
   "outputs": [],
   "source": [
    "from game import RandomPlayer, PassivePlayer, MinimaxPlayer, AlphaBetaPlayer, MonteCarloPlayer\n",
    "from heuristic import DualBallReachableHeuristic, BallReachableHeuristic, DualBallDistanceHeuristic\n",
    "from game import BoardState, GameSimulator, Rules\n",
    "from util import GameRunner\n",
    "import random\n",
    "import itertools\n",
    "import numpy as np\n",
    "from copy import deepcopy\n",
    "from test_bayes import *\n",
    "import matplotlib.pyplot as plt"
   ]
  },
  {
   "cell_type": "code",
   "execution_count": 25,
   "metadata": {},
   "outputs": [],
   "source": [
    "from test_bayes import *"
   ]
  },
  {
   "cell_type": "code",
   "execution_count": 2,
   "metadata": {},
   "outputs": [
    {
     "name": "stdout",
     "output_type": "stream",
     "text": [
      "1 2 3 4 5 6 7 8 9 10 12 14 16 18 20 22 24 26 28 30 34 38 42 46 50 54 58 62 66 70 78 86 94 102 110 118 126 134 142 150 158 166 174 182 190 198 "
     ]
    }
   ],
   "source": [
    "def test_1_obs_lengths_infer_state():\n",
    "    avg_accuracy = list()\n",
    "    obs_lens = list(itertools.chain(range(1,10,1),range(10,30,2),range(30,70,4),range(70,200,8)))\n",
    "    n_samples = 100\n",
    "    for obs_len in obs_lens:\n",
    "        print(obs_len, end=\" \")\n",
    "        avg = 0\n",
    "        for i in range(n_samples):\n",
    "            gt_seq, obs_seq = generate_sequence_exact(obs_len)\n",
    "            final_estimate = infer_last_state_from_seq(obs_seq=obs_seq)\n",
    "            final_gt = gt_seq[len(gt_seq)-1][0]\n",
    "            num_diff = get_diff(final_estimate,final_gt)\n",
    "            avg += (12 - num_diff) / 12\n",
    "        avg /= n_samples\n",
    "        avg_accuracy.append(avg)\n",
    "    return (obs_lens, avg_accuracy)\n",
    "\n",
    "obs_lens_1s, avg_accuracy_1s = test_1_obs_lengths_infer_state()\n",
    "# plt.plot(obs_lens_1s, avg_accuracy_1s)"
   ]
  },
  {
   "cell_type": "code",
   "execution_count": null,
   "metadata": {},
   "outputs": [],
   "source": [
    "# Evaluates average accuracy over sequences of varying lengths\n",
    "def test_1_obs_lengths_infer_actions():\n",
    "    avg_accuracy = list()\n",
    "    obs_lens = list(itertools.chain(range(2,10,1),range(10,30,2),range(30,70,4),range(70,200,8))) # start from 2, no actions for 1 obs\n",
    "    n_samples = 5\n",
    "    for obs_len in obs_lens:\n",
    "        print(obs_len, end=\" \")\n",
    "        avg = 0\n",
    "        for i in range(n_samples):\n",
    "            gt_seq, obs_seq = generate_sequence_exact(obs_len)\n",
    "            actions = infer_actions_from_seq(obs_seq=obs_seq)\n",
    "            correct = 0\n",
    "            for i in range(len(actions)):\n",
    "                if actions[i] == gt_seq[i][1]:\n",
    "                    correct += 1\n",
    "            correct /= len(actions)\n",
    "            avg += correct\n",
    "        avg /= n_samples\n",
    "        avg_accuracy.append(avg)\n",
    "    return (obs_lens, avg_accuracy)\n",
    "\n",
    "obs_lens_1a, avg_accuracy_1a = test_1_obs_lengths_infer_actions()\n",
    "# plt.plot(obs_lens_1a, avg_accuracy_1a)"
   ]
  },
  {
   "cell_type": "code",
   "execution_count": null,
   "metadata": {},
   "outputs": [],
   "source": [
    "def test_2_init_dist_infer_state():\n",
    "    avg_accuracy = list()\n",
    "    obs_lens = list(itertools.chain(range(1,10,1),range(10,30,2),range(30,70,4),range(70,200,8)))\n",
    "    n_samples = 100\n",
    "    for obs_len in obs_lens:\n",
    "        print(obs_len, end=\" \")\n",
    "        avg = 0\n",
    "        for i in range(n_samples):\n",
    "            gt_seq, obs_seq = generate_sequence_exact(obs_len)\n",
    "            final_estimate = infer_last_state_from_seq(obs_seq=obs_seq,init_dist=\"dirac_delta\")\n",
    "            final_gt = gt_seq[len(gt_seq)-1][0]\n",
    "            num_diff = get_diff(final_estimate,final_gt)\n",
    "            avg += (12 - num_diff) / 12\n",
    "        avg /= n_samples\n",
    "        avg_accuracy.append(avg)\n",
    "    return (obs_lens, avg_accuracy)\n",
    "\n",
    "obs_lens_2s, avg_accuracy_2s = test_2_init_dist_infer_state()\n",
    "# plt.plot(obs_lens_2s, avg_accuracy_2s)"
   ]
  },
  {
   "cell_type": "code",
   "execution_count": null,
   "metadata": {},
   "outputs": [],
   "source": [
    "def test_2_init_dist_infer_actions():\n",
    "    avg_accuracy = list()\n",
    "    obs_lens = list(itertools.chain(range(2,10,1),range(10,30,2),range(30,70,4),range(70,200,8)))\n",
    "    n_samples = 5\n",
    "    for obs_len in obs_lens:\n",
    "        print(obs_len, end=\" \")\n",
    "        avg = 0\n",
    "        for i in range(n_samples):\n",
    "            gt_seq, obs_seq = generate_sequence_exact(obs_len)\n",
    "            actions = infer_actions_from_seq(obs_seq=obs_seq,init_dist=\"dirac_delta\")\n",
    "            correct = 0\n",
    "            for i in range(len(actions)):\n",
    "                if actions[i] == gt_seq[i][1]:\n",
    "                    correct += 1\n",
    "            correct /= len(actions)\n",
    "            avg += correct\n",
    "        avg /= n_samples\n",
    "        avg_accuracy.append(avg)\n",
    "    return (obs_lens, avg_accuracy)\n",
    "    \n",
    "obs_lens_2a, avg_accuracy_2a = test_2_init_dist_infer_actions()\n",
    "# plt.plot(obs_lens_2a, avg_accuracy_2a)"
   ]
  },
  {
   "cell_type": "code",
   "execution_count": null,
   "metadata": {},
   "outputs": [],
   "source": [
    "def test_3_select_val_infer_state():\n",
    "    avg_accuracy = list()\n",
    "    obs_lens = list(itertools.chain(range(1,10,1),range(10,30,2),range(30,70,4),range(70,200,8)))\n",
    "    n_samples = 100\n",
    "    for obs_len in obs_lens:\n",
    "        print(obs_len, end=\" \")\n",
    "        avg = 0\n",
    "        for i in range(n_samples):\n",
    "            gt_seq, obs_seq = generate_sequence_exact(obs_len)\n",
    "            final_estimate = infer_last_state_from_seq(obs_seq=obs_seq,select_dist_val=\"sample\")\n",
    "            final_gt = gt_seq[len(gt_seq)-1][0]\n",
    "            num_diff = get_diff(final_estimate,final_gt)\n",
    "            avg += (12 - num_diff) / 12\n",
    "        avg /= n_samples\n",
    "        avg_accuracy.append(avg)\n",
    "    return (obs_lens, avg_accuracy)\n",
    "\n",
    "obs_lens_3s, avg_accuracy_3s = test_3_select_val_infer_state()\n",
    "# plt.plot(obs_lens_3s, avg_accuracy_3s)"
   ]
  },
  {
   "cell_type": "code",
   "execution_count": null,
   "metadata": {},
   "outputs": [],
   "source": [
    "def test_3_select_val_infer_actions():\n",
    "    avg_accuracy = list()\n",
    "    obs_lens = list(itertools.chain(range(2,10,1),range(10,30,2),range(30,70,4),range(70,200,8)))\n",
    "    n_samples = 5\n",
    "    for obs_len in obs_lens:\n",
    "        print(obs_len, end=\" \")\n",
    "        avg = 0\n",
    "        for i in range(n_samples):\n",
    "            gt_seq, obs_seq = generate_sequence_exact(obs_len)\n",
    "            actions = infer_actions_from_seq(obs_seq=obs_seq,select_dist_val=\"sample\")\n",
    "            correct = 0\n",
    "            for i in range(len(actions)):\n",
    "                if actions[i] == gt_seq[i][1]:\n",
    "                    correct += 1\n",
    "            correct /= len(actions)\n",
    "            avg += correct\n",
    "        avg /= n_samples\n",
    "        avg_accuracy.append(avg)\n",
    "    return (obs_lens, avg_accuracy)\n",
    "\n",
    "obs_lens_3a, avg_accuracy_3a = test_3_select_val_infer_actions()\n",
    "# plt.plot(obs_lens_3a, avg_accuracy_3a)"
   ]
  },
  {
   "cell_type": "code",
   "execution_count": 22,
   "metadata": {},
   "outputs": [
    {
     "name": "stdout",
     "output_type": "stream",
     "text": [
      "2 3 4 5 6 7 8 9 10 12 14 16 18 20 22 24 26 28 30 34 38 42 46 50 54 58 62 66 70 78 86 94 102 110 118 126 134 142 150 158 166 174 182 190 198 "
     ]
    }
   ],
   "source": [
    "def test_4_active_prob_infer_actions():\n",
    "    avg_accuracy = list()\n",
    "    obs_lens = list(itertools.chain(range(2,10,1),range(10,30,2),range(30,70,4),range(70,200,8)))\n",
    "    n_samples = 5\n",
    "    for obs_len in obs_lens:\n",
    "        print(obs_len, end=\" \")\n",
    "        avg = 0\n",
    "        for i in range(n_samples):\n",
    "            gt_seq, obs_seq = generate_sequence_exact(obs_len)\n",
    "            actions = infer_actions_from_seq(obs_seq=obs_seq,use_active_prob=1)\n",
    "            correct = 0\n",
    "            for i in range(len(actions)):\n",
    "                if actions[i] == gt_seq[i][1]:\n",
    "                    correct += 1\n",
    "            correct /= len(actions)\n",
    "            avg += correct\n",
    "        avg /= n_samples\n",
    "        avg_accuracy.append(avg)\n",
    "    return (obs_lens, avg_accuracy)\n",
    "\n",
    "obs_lens_4a, avg_accuracy_4a = test_4_active_prob_infer_actions()\n",
    "# plt.plot(obs_lens_4a, avg_accuracy_4a)"
   ]
  },
  {
   "cell_type": "code",
   "execution_count": null,
   "metadata": {},
   "outputs": [],
   "source": [
    "plt.plot(obs_lens_1s, avg_accuracy_1s, label=\"Baseline\")\n",
    "plt.legend()"
   ]
  },
  {
   "cell_type": "code",
   "execution_count": null,
   "metadata": {},
   "outputs": [],
   "source": [
    "plt.plot(obs_lens_1s, avg_accuracy_1s, label=\"Refined Uniform (Baseline)\")\n",
    "plt.plot(obs_lens_2s, avg_accuracy_2s, label=\"Dirac Delta\")\n",
    "plt.legend()"
   ]
  },
  {
   "cell_type": "code",
   "execution_count": 24,
   "metadata": {},
   "outputs": [
    {
     "data": {
      "text/plain": [
       "<matplotlib.legend.Legend at 0x127f06430>"
      ]
     },
     "execution_count": 24,
     "metadata": {},
     "output_type": "execute_result"
    },
    {
     "data": {
      "image/png": "[encoded data removed]",
      "text/plain": [
       "<Figure size 640x480 with 1 Axes>"
      ]
     },
     "metadata": {},
     "output_type": "display_data"
    }
   ],
   "source": [
    "plt.plot(obs_lens_1a, avg_accuracy_1a, label=\"No Active Prob (Baseline)\")\n",
    "plt.plot(obs_lens_4a, avg_accuracy_4a, label=\"Active Prob\")\n",
    "plt.legend()"
   ]
  }
 ],
 "metadata": {
  "kernelspec": {
   "display_name": "Python 3.8.16 ('ps_env')",
   "language": "python",
   "name": "python3"
  },
  "language_info": {
   "codemirror_mode": {
    "name": "ipython",
    "version": 3
   },
   "file_extension": ".py",
   "mimetype": "text/x-python",
   "name": "python",
   "nbconvert_exporter": "python",
   "pygments_lexer": "ipython3",
   "version": "3.8.16"
  },
  "orig_nbformat": 4,
  "vscode": {
   "interpreter": {
    "hash": "c0ea66abcad3dcff7d991c9bfdf26593c0108dceefd05a264ad52cfd74c96ce9"
   }
  }
 },
 "nbformat": 4,
 "nbformat_minor": 2
}
